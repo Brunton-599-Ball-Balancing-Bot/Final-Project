{
 "cells": [
  {
   "cell_type": "code",
   "execution_count": 9,
   "metadata": {},
   "outputs": [
    {
     "name": "stdout",
     "output_type": "stream",
     "text": [
      "A_d:\n",
      "[[ 9.93416130e-01 -6.58387018e-03  9.29177587e-03  7.32370464e-04]\n",
      " [ 7.71926109e-03  1.00771926e+00  7.81361823e-04  9.19024299e-03]\n",
      " [-1.24434437e+00 -1.24434437e+00  8.63580053e-01  1.36347520e-01]\n",
      " [ 1.46385376e+00  1.46385376e+00  1.50650651e-01  8.49382470e-01]]\n",
      "B_d:\n",
      "[[-0.11885416]\n",
      " [ 0.11885416]\n",
      " [-0.03884005]\n",
      " [ 0.0430263 ]]\n"
     ]
    }
   ],
   "source": [
    "import numpy as np\n",
    "from scipy.linalg import expm\n",
    "\n",
    "m_B = 51.66 # mass of robot body (kg)\n",
    "m_b = 2.44 # mass of ball (kg)\n",
    "l = 0.69 # distance from ball COM to total COM (m)\n",
    "I_b = 0.0174 # ball moment of inertia (kg-m^2)\n",
    "r_b = 0.1058 # ball radius (m)\n",
    "I_B = 12.59 # intertia of body wrt center of ball (kg-m^2)\n",
    "mu_theta = 3.68 # theta viscous damping coefficient (N-m-s/rad)\n",
    "mu_phi = 3.68 # phi viscous damping coefficient (N-m-s/rad)\n",
    "dt = 0.01\n",
    "g = 9.81\n",
    "\n",
    "Gamma_1 = I_b + I_B + m_b * r_b**2 + m_B * r_b**2 + m_B * l**2\n",
    "Gamma_2 = I_B + m_B * l**2\n",
    "\n",
    "# Compute F, G, and H\n",
    "F = Gamma_2 + m_B * r_b * l\n",
    "G = Gamma_1 + 2 * m_B * r_b * l\n",
    "H = Gamma_2**2 - Gamma_1 * Gamma_2 + m_B**2 * l**2 * r_b**2\n",
    "\n",
    "\n",
    "\n",
    "A = np.array([\n",
    "    [0, 0, 1, 0],\n",
    "    [0, 0, 0, 1],\n",
    "    [m_B**2 * l**2 * g * r_b / H, m_B**2 * l**2 * g * r_b / H, mu_theta * Gamma_2 / H, -mu_phi * F / H],\n",
    "    [m_B * g * l * (F - G) / H, m_B * g * l * (F - G) / H, -mu_theta * (Gamma_2 + m_B * r_b * l) / H, mu_phi * G / H]\n",
    "])\n",
    "\n",
    "B = B = np.array([\n",
    "    [0],\n",
    "    [0],\n",
    "    [F / H],\n",
    "    [-G / H]\n",
    "])\n",
    "\n",
    "A_d = expm(A * dt)\n",
    "\n",
    "# Compute B_d\n",
    "B_d = np.linalg.inv(A) @ (A_d - np.eye(A.shape[0])) @ B\n",
    "\n",
    "print(\"A_d:\")\n",
    "print(A_d)\n",
    "print(\"B_d:\")\n",
    "print(B_d)\n"
   ]
  }
 ],
 "metadata": {
  "kernelspec": {
   "display_name": "base",
   "language": "python",
   "name": "python3"
  },
  "language_info": {
   "codemirror_mode": {
    "name": "ipython",
    "version": 3
   },
   "file_extension": ".py",
   "mimetype": "text/x-python",
   "name": "python",
   "nbconvert_exporter": "python",
   "pygments_lexer": "ipython3",
   "version": "3.11.5"
  }
 },
 "nbformat": 4,
 "nbformat_minor": 2
}
